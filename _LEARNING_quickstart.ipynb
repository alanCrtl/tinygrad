{
 "cells": [
  {
   "cell_type": "code",
   "execution_count": 1,
   "metadata": {},
   "outputs": [],
   "source": [
    "import numpy as np\n",
    "from tinygrad.helpers import Timing\n",
    "from tinygrad import Tensor"
   ]
  },
  {
   "cell_type": "code",
   "execution_count": 2,
   "metadata": {},
   "outputs": [],
   "source": [
    "t1 = Tensor([1, 2, 3, 4, 5])\n",
    "na = np.array([1, 2, 3, 4, 5])\n",
    "t2 = Tensor(na)"
   ]
  },
  {
   "cell_type": "code",
   "execution_count": 3,
   "metadata": {},
   "outputs": [],
   "source": [
    "full = Tensor.full(shape=(2, 3), fill_value=5) # create a tensor of shape (2, 3) filled with 5\n",
    "zeros = Tensor.zeros(2, 3) # create a tensor of shape (2, 3) filled with 0\n",
    "ones = Tensor.ones(2, 3) # create a tensor of shape (2, 3) filled with 1\n",
    "\n",
    "full_like = Tensor.full_like(full, fill_value=2) # create a tensor of the same shape as `full` filled with 2\n",
    "zeros_like = Tensor.zeros_like(full) # create a tensor of the same shape as `full` filled with 0\n",
    "ones_like = Tensor.ones_like(full) # create a tensor of the same shape as `full` filled with 1\n",
    "\n",
    "eye = Tensor.eye(3) # create a 3x3 identity matrix\n",
    "arange = Tensor.arange(start=0, stop=10, step=1) # create a tensor of shape (10,) filled with values from 0 to 9\n",
    "\n",
    "rand = Tensor.rand(2, 3) # create a tensor of shape (2, 3) filled with random values from a uniform distribution\n",
    "randn = Tensor.randn(2, 3) # create a tensor of shape (2, 3) filled with random values from a standard normal distribution\n",
    "uniform = Tensor.uniform(2, 3, low=0, high=10) # create a tensor of shape (2, 3) filled with random values from a uniform distribution between 0 and 10"
   ]
  },
  {
   "cell_type": "code",
   "execution_count": 4,
   "metadata": {},
   "outputs": [],
   "source": [
    "from tinygrad import dtypes\n",
    "\n",
    "t3 = Tensor([1, 2, 3, 4, 5], dtype=dtypes.int32)"
   ]
  },
  {
   "cell_type": "code",
   "execution_count": 5,
   "metadata": {},
   "outputs": [],
   "source": [
    "t4 = Tensor([1, 2, 3, 4, 5])\n",
    "t5 = (t4 + 1) * 2\n",
    "t6 = (t5 * t4).relu().log_softmax()"
   ]
  },
  {
   "cell_type": "code",
   "execution_count": 6,
   "metadata": {},
   "outputs": [],
   "source": [
    "class Linear:\n",
    "  def __init__(self, in_features, out_features, bias=True, initialization: str='kaiming_uniform'):\n",
    "    self.weight = getattr(Tensor, initialization)(out_features, in_features)\n",
    "    self.bias = Tensor.zeros(out_features) if bias else None\n",
    "\n",
    "  def __call__(self, x:Tensor):\n",
    "    return x.linear(self.weight.transpose(), self.bias)"
   ]
  },
  {
   "cell_type": "code",
   "execution_count": 42,
   "metadata": {},
   "outputs": [
    {
     "data": {
      "text/plain": [
       "[[1, 2], [3, 4]]"
      ]
     },
     "execution_count": 42,
     "metadata": {},
     "output_type": "execute_result"
    }
   ],
   "source": [
    "t.tolist()"
   ]
  },
  {
   "cell_type": "code",
   "execution_count": 7,
   "metadata": {},
   "outputs": [],
   "source": [
    "t = Tensor([[1, 2], [3, 4]]) # sample x features\n",
    "weight = Tensor([[1, 2], [3, 4], [5, 5]]).transpose() # \n",
    "bias = Tensor([1, 2, 6])"
   ]
  },
  {
   "cell_type": "code",
   "execution_count": 8,
   "metadata": {},
   "outputs": [
    {
     "name": "stdout",
     "output_type": "stream",
     "text": [
      "[[ 6 13 21]\n",
      " [12 27 41]]\n"
     ]
    }
   ],
   "source": [
    "# a row represents a sample input, \n",
    "# each colunm is a neuron value\n",
    "print(t.linear(weight, bias).numpy()) # t * w + b"
   ]
  },
  {
   "cell_type": "code",
   "execution_count": 9,
   "metadata": {},
   "outputs": [],
   "source": [
    "class TinyNet:\n",
    "  def __init__(self):\n",
    "    self.l1 = Linear(784, 128, bias=False)\n",
    "    self.l2 = Linear(128, 10, bias=False)\n",
    "\n",
    "  def __call__(self, x:Tensor):\n",
    "    x = self.l1(x)\n",
    "    x = x.leakyrelu()\n",
    "    x = self.l2(x)\n",
    "    return x\n",
    "\n",
    "net = TinyNet()"
   ]
  },
  {
   "cell_type": "code",
   "execution_count": 10,
   "metadata": {},
   "outputs": [],
   "source": [
    "def sparse_categorical_crossentropy(self, Y:Tensor, ignore_index=-1) -> Tensor:\n",
    "    loss_mask = Y != ignore_index\n",
    "    y_counter = Tensor.arange(self.shape[-1], dtype=dtypes.int32, requires_grad=False, device=self.device).unsqueeze(0).expand(Y.numel(), self.shape[-1])\n",
    "    y = ((y_counter == Y.flatten().reshape(-1, 1)).where(-1.0, 0) * loss_mask.reshape(-1, 1)).reshape(*Y.shape, self.shape[-1])\n",
    "    return self.log_softmax().mul(y).sum() / loss_mask.sum()"
   ]
  },
  {
   "cell_type": "code",
   "execution_count": 11,
   "metadata": {},
   "outputs": [],
   "source": [
    "from tinygrad.nn.optim import SGD\n",
    "\n",
    "opt = SGD([net.l1.weight, net.l2.weight], lr=3e-4)\n",
    "# instead of passing params explicitly you can just do tinigrad.nn.state.get_parameters(net)"
   ]
  },
  {
   "cell_type": "code",
   "execution_count": 12,
   "metadata": {},
   "outputs": [
    {
     "name": "stderr",
     "output_type": "stream",
     "text": [
      "c:\\Users\\acl\\AppData\\Local\\Programs\\Python\\Python312\\Lib\\site-packages\\tqdm\\auto.py:21: TqdmWarning: IProgress not found. Please update jupyter and ipywidgets. See https://ipywidgets.readthedocs.io/en/stable/user_install.html\n",
      "  from .autonotebook import tqdm as notebook_tqdm\n"
     ]
    }
   ],
   "source": [
    "from extra.datasets import fetch_mnist"
   ]
  },
  {
   "cell_type": "code",
   "execution_count": 13,
   "metadata": {},
   "outputs": [
    {
     "name": "stderr",
     "output_type": "stream",
     "text": [
      "https://storage.googleapis.com/cvdf-datasets/mnist/train-images-idx3-ubyte.gz: 1\n",
      "https://storage.googleapis.com/cvdf-datasets/mnist/train-labels-idx1-ubyte.gz: 1\n",
      "https://storage.googleapis.com/cvdf-datasets/mnist/t10k-images-idx3-ubyte.gz: 10\n",
      "https://storage.googleapis.com/cvdf-datasets/mnist/t10k-labels-idx1-ubyte.gz: 10\n"
     ]
    },
    {
     "data": {
      "text/plain": [
       "((60000, 784), (60000,), (10000, 784), (10000,))"
      ]
     },
     "execution_count": 13,
     "metadata": {},
     "output_type": "execute_result"
    }
   ],
   "source": [
    "X_train, Y_train, X_test, Y_test = fetch_mnist()\n",
    "X_train.shape, Y_train.shape, X_test.shape, Y_test.shape"
   ]
  },
  {
   "cell_type": "code",
   "execution_count": 14,
   "metadata": {},
   "outputs": [
    {
     "name": "stdout",
     "output_type": "stream",
     "text": [
      "Step 1 | Loss: 165.96644592285156 | Accuracy: 0.09375\n",
      "Step 101 | Loss: 6.453737258911133 | Accuracy: 0.796875\n",
      "Step 201 | Loss: 13.302399635314941 | Accuracy: 0.734375\n",
      "Step 301 | Loss: 6.442187309265137 | Accuracy: 0.8125\n",
      "Step 401 | Loss: 4.340219020843506 | Accuracy: 0.828125\n",
      "Step 501 | Loss: 4.145925045013428 | Accuracy: 0.8125\n",
      "Step 601 | Loss: 2.3986942768096924 | Accuracy: 0.90625\n",
      "Step 701 | Loss: 2.5127370357513428 | Accuracy: 0.828125\n",
      "Step 801 | Loss: 1.9548487663269043 | Accuracy: 0.90625\n",
      "Step 901 | Loss: 0.7563364505767822 | Accuracy: 0.921875\n"
     ]
    }
   ],
   "source": [
    "with Tensor.train():\n",
    "  for step in range(1000):\n",
    "    # random sample a batch\n",
    "    samp = np.random.randint(0, X_train.shape[0], size=(64))\n",
    "    batch = Tensor(X_train[samp], requires_grad=False)\n",
    "    # get the corresponding labels\n",
    "    labels = Tensor(Y_train[samp])\n",
    "\n",
    "    # forward pass\n",
    "    out = net(batch)\n",
    "\n",
    "    # compute loss\n",
    "    loss = sparse_categorical_crossentropy(out, labels)\n",
    "\n",
    "    # zero gradients\n",
    "    opt.zero_grad()\n",
    "\n",
    "    # backward pass\n",
    "    loss.backward()\n",
    "\n",
    "    # update parameters\n",
    "    opt.step()\n",
    "\n",
    "    # calculate accuracy\n",
    "    pred = out.argmax(axis=-1)\n",
    "    acc = (pred == labels).mean()\n",
    "\n",
    "    if step % 100 == 0:\n",
    "      print(f\"Step {step+1} | Loss: {loss.numpy()} | Accuracy: {acc.numpy()}\")"
   ]
  },
  {
   "cell_type": "code",
   "execution_count": 16,
   "metadata": {},
   "outputs": [
    {
     "name": "stdout",
     "output_type": "stream",
     "text": [
      "Test Accuracy: 88.89%\n",
      "Time: 6298.67 ms\n"
     ]
    }
   ],
   "source": [
    "with Timing(\"Time: \"):\n",
    "  avg_acc = 0\n",
    "  for step in range(1000):\n",
    "    # random sample a batch\n",
    "    samp = np.random.randint(0, X_test.shape[0], size=(64))\n",
    "    batch = Tensor(X_test[samp], requires_grad=False)\n",
    "    # get the corresponding labels\n",
    "    labels = Y_test[samp]\n",
    "\n",
    "    # forward pass\n",
    "    out = net(batch)\n",
    "\n",
    "    # calculate accuracy\n",
    "    pred = out.argmax(axis=-1).numpy()\n",
    "    avg_acc += (pred == labels).mean()\n",
    "  print(f\"Test Accuracy: {(avg_acc / 1000):.2%}\")"
   ]
  },
  {
   "cell_type": "markdown",
   "metadata": {},
   "source": [
    "Now look at `examples/`, `test/` and `extra/`"
   ]
  }
 ],
 "metadata": {
  "kernelspec": {
   "display_name": "Python 3",
   "language": "python",
   "name": "python3"
  },
  "language_info": {
   "codemirror_mode": {
    "name": "ipython",
    "version": 3
   },
   "file_extension": ".py",
   "mimetype": "text/x-python",
   "name": "python",
   "nbconvert_exporter": "python",
   "pygments_lexer": "ipython3",
   "version": "3.12.3"
  }
 },
 "nbformat": 4,
 "nbformat_minor": 2
}
